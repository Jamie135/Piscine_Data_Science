{
 "cells": [
  {
   "cell_type": "code",
   "execution_count": null,
   "metadata": {},
   "outputs": [],
   "source": [
    "import psycopg2\n",
    "import matplotlib.pyplot as plt\n",
    "\n",
    "\n",
    "connection = psycopg2.connect(\n",
    "    database=\"piscineds\",\n",
    "    user=\"pbureera\",\n",
    "    password=\"mysecretpassword\",\n",
    "    host=\"localhost\",\n",
    "    port=\"5432\",\n",
    ")\n",
    "connection.autocommit = True\n",
    "cursor = connection.cursor()"
   ]
  },
  {
   "cell_type": "code",
   "execution_count": null,
   "metadata": {},
   "outputs": [],
   "source": [
    "cursor.execute(\n",
    "    \"\"\"\n",
    "    SELECT COUNT(price) FROM customers\n",
    "    WHERE event_type = 'purchase'\n",
    "    GROUP BY user_id HAVING COUNT(price) < 40\n",
    "    \"\"\"\n",
    ")\n",
    "data = cursor.fetchall()\n",
    "frequency = [item[0] for item in data]\n",
    "plt.hist(frequency, bins=5, histtype=\"bar\", rwidth=0.98)\n",
    "plt.xlabel(\"frequency\")\n",
    "plt.ylabel(\"customers\")\n",
    "\n",
    "plt.gca().set_facecolor('#EAEAF2')\n",
    "plt.grid(visible=True, which='both', color='white', linestyle='-', linewidth=0.7)\n",
    "plt.show()"
   ]
  },
  {
   "cell_type": "code",
   "execution_count": null,
   "metadata": {},
   "outputs": [],
   "source": [
    "cursor.execute(\n",
    "    \"\"\"\n",
    "    SELECT SUM(price) FROM customers\n",
    "    WHERE event_type = 'purchase'\n",
    "    GROUP BY user_id HAVING SUM(price) < 225\n",
    "    \"\"\"\n",
    ")\n",
    "data = cursor.fetchall()\n",
    "money = [item[0] for item in data]\n",
    "plt.hist(money, bins=5, histtype=\"bar\", rwidth=0.98)\n",
    "plt.xlabel(\"monetary value in ₳\")\n",
    "plt.ylabel(\"customers\")\n",
    "\n",
    "plt.gca().set_facecolor('#EAEAF2')\n",
    "plt.grid(visible=True, which='both', color='white', linestyle='-', linewidth=0.7)\n",
    "plt.show()\n",
    "\n",
    "cursor.close()\n",
    "connection.close()"
   ]
  }
 ],
 "metadata": {
  "language_info": {
   "name": "python"
  }
 },
 "nbformat": 4,
 "nbformat_minor": 2
}
