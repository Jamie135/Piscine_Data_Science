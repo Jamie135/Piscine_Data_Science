{
 "cells": [
  {
   "cell_type": "code",
   "execution_count": null,
   "metadata": {},
   "outputs": [],
   "source": [
    "import psycopg2\n",
    "import matplotlib.pyplot as plt\n",
    "\n",
    "\n",
    "connection = psycopg2.connect(\n",
    "    database=\"piscineds\",\n",
    "    user=\"pbureera\",\n",
    "    password=\"mysecretpassword\",\n",
    "    host=\"localhost\",\n",
    "    port=\"5432\",\n",
    ")\n",
    "cursor = connection.cursor()\n"
   ]
  },
  {
   "cell_type": "code",
   "execution_count": null,
   "metadata": {},
   "outputs": [],
   "source": [
    "cursor.execute(\n",
    "    \"\"\"\n",
    "    SELECT\n",
    "        COUNT(product_id),\n",
    "        AVG(price) AS mean,\n",
    "        SQRT(VARIANCE(price)) AS std\n",
    "        MIN(price) AS min,\n",
    "        PERCENTILE_CONT(0.25) WITHIN GROUP (ORDER BY price) AS '25%',\n",
    "        PERCENTILE_CONT(0.5) WITHIN GROUP (ORDER BY price) AS '50%',\n",
    "        PERCENTILE_CONT(0.75) WITHIN GROUP (ORDER BY price) AS '75%',\n",
    "        MAX(price) AS max,\n",
    "    FROM customers\n",
    "    WHERE event_type = 'purchase';\n",
    "    \"\"\"\n",
    ")\n",
    "data = cursor.fetchall()\n",
    "column_names = [desc[0] for desc in cursor.description]\n",
    "stats = [(col, val) for col, val in zip(column_names, data[0])]\n",
    "print(\"\\n\".join([f\"{col}: {val}\" for col, val in stats]))\n"
   ]
  },
  {
   "cell_type": "code",
   "execution_count": null,
   "metadata": {},
   "outputs": [],
   "source": [
    "cursor.execute(\n",
    "    \"\"\"\n",
    "    SELECT price FROM customers\n",
    "    WHERE event_type = 'purchase'\n",
    "    \"\"\"\n",
    ")\n",
    "data = cursor.fetchall()\n",
    "prices = [item[0] for item in data]\n",
    "plt.boxplot(prices, vert=False)\n",
    "plt.ylim(0.9, 1.1)\n",
    "plt.xlabel(\"price\")\n",
    "\n",
    "plt.gca().set_facecolor('#EAEAF2')\n",
    "plt.grid(visible=True, axis='x', color='white', linestyle='-', linewidth=0.7)\n",
    "plt.show()"
   ]
  },
  {
   "cell_type": "code",
   "execution_count": null,
   "metadata": {},
   "outputs": [],
   "source": [
    "plt.boxplot(prices, sym=\"\", vert=False, patch_artist=True)\n",
    "plt.ylim(0.9, 1.1)\n",
    "plt.xlabel(\"price\")\n",
    "\n",
    "plt.gca().set_facecolor('#EAEAF2')\n",
    "plt.grid(visible=True, axis='x', color='white', linestyle='-', linewidth=0.7)\n",
    "plt.show()\n"
   ]
  },
  {
   "cell_type": "code",
   "execution_count": null,
   "metadata": {},
   "outputs": [],
   "source": [
    "cursor.execute(\n",
    "    \"\"\"\n",
    "    SELECT SUM(price) FROM customers\n",
    "    WHERE event_type = 'cart' GROUP BY user_id\n",
    "    \"\"\"\n",
    ")\n",
    "data = cursor.fetchall()\n",
    "prices = [item[0] for item in data]\n",
    "plt.boxplot(prices, vert=False)\n",
    "plt.ylim(0.9, 1.1)\n",
    "plt.xlim(-10, 200)\n",
    "\n",
    "plt.gca().set_facecolor('#EAEAF2')\n",
    "plt.grid(visible=True, axis='x', color='white', linestyle='-', linewidth=0.7)\n",
    "plt.show()\n",
    "\n",
    "cursor.close()\n",
    "connection.close()"
   ]
  }
 ],
 "metadata": {
  "language_info": {
   "name": "python"
  }
 },
 "nbformat": 4,
 "nbformat_minor": 2
}
