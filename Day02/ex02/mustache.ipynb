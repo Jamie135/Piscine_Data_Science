{
 "cells": [
  {
   "cell_type": "code",
   "execution_count": 15,
   "metadata": {},
   "outputs": [],
   "source": [
    "import psycopg2\n",
    "import numpy as np\n",
    "import matplotlib.pyplot as plt\n",
    "\n",
    "\n",
    "connection = psycopg2.connect(\n",
    "    database=\"piscineds\",\n",
    "    user=\"pbureera\",\n",
    "    password=\"mysecretpassword\",\n",
    "    host=\"localhost\",\n",
    "    port=\"5432\",\n",
    ")\n",
    "connection.autocommit = True\n",
    "cursor = connection.cursor()\n"
   ]
  },
  {
   "cell_type": "code",
   "execution_count": 16,
   "metadata": {},
   "outputs": [
    {
     "name": "stdout",
     "output_type": "stream",
     "text": [
      "count\t6348004.870008912\n",
      "mean\t4.932377889171475\n",
      "std\t8.924840870550286\n",
      "min\t-79.37\n",
      "25%\t1.59\n",
      "50%\t3.0\n",
      "75%\t5.4\n",
      "max\t327.78\n"
     ]
    }
   ],
   "source": [
    "cursor.execute(\n",
    "    \"\"\"\n",
    "    SELECT\n",
    "        SUM(price) AS count,\n",
    "        AVG(price) AS mean,\n",
    "        SQRT(VARIANCE(price)) AS std,\n",
    "        MIN(price) AS min,\n",
    "        PERCENTILE_CONT(0.25) WITHIN GROUP (ORDER BY price) AS \"25%\",\n",
    "        PERCENTILE_CONT(0.5) WITHIN GROUP (ORDER BY price) AS \"50%\",\n",
    "        PERCENTILE_CONT(0.75) WITHIN GROUP (ORDER BY price) AS \"75%\",\n",
    "        MAX(price) AS max\n",
    "    FROM customers\n",
    "    WHERE event_type = 'purchase';\n",
    "    \"\"\"\n",
    ")\n",
    "data = cursor.fetchall()\n",
    "column_names = [desc[0] for desc in cursor.description]\n",
    "stats = [(col, val) for col, val in zip(column_names, data[0])]\n",
    "print(\"\\n\".join([f\"{col}\\t{val}\" for col, val in stats]))\n"
   ]
  },
  {
   "cell_type": "code",
   "execution_count": 17,
   "metadata": {},
   "outputs": [
    {
     "data": {
      "image/png": "[encoded data removed]",
      "text/plain": [
       "<Figure size 640x480 with 1 Axes>"
      ]
     },
     "metadata": {},
     "output_type": "display_data"
    }
   ],
   "source": [
    "cursor.execute(\n",
    "    \"\"\"\n",
    "    SELECT price FROM customers\n",
    "    WHERE event_type = 'purchase'\n",
    "    \"\"\"\n",
    ")\n",
    "data = cursor.fetchall()\n",
    "prices = [item[0] for item in data]\n",
    "fig, ax = plt.subplots()\n",
    "flierprops = dict(marker='o', markerfacecolor='black', markersize=3,\n",
    "                  linestyle='none')\n",
    "medianprops = dict(linestyle='-', color='black')\n",
    "box = ax.boxplot(prices, vert=False, flierprops=flierprops, medianprops=medianprops, patch_artist=True, zorder=3)\n",
    "for b in box['boxes']:\n",
    "    b.set_facecolor('darkseagreen')\n",
    "plt.ylim(0.9, 1.1)\n",
    "plt.xlabel(\"price\")\n",
    "plt.yticks([])\n",
    "\n",
    "plt.gca().set_facecolor('#EAEAF2')\n",
    "plt.grid(visible=True, axis='x', color='white', linestyle='-', linewidth=0.7)\n",
    "plt.show()"
   ]
  },
  {
   "cell_type": "code",
   "execution_count": 18,
   "metadata": {},
   "outputs": [
    {
     "data": {
      "image/png": "[encoded data removed]",
      "text/plain": [
       "<Figure size 640x480 with 1 Axes>"
      ]
     },
     "metadata": {},
     "output_type": "display_data"
    }
   ],
   "source": [
    "boxprops = dict(facecolor='#87A96B', color='black')\n",
    "medianprops = dict(color='black')\n",
    "\n",
    "fig, ax = plt.subplots()\n",
    "\n",
    "ax.boxplot(prices,\n",
    "           vert=False,\n",
    "           widths=0.8,\n",
    "           flierprops=flierprops,\n",
    "           patch_artist=True,\n",
    "           boxprops=boxprops,\n",
    "           showfliers=False,\n",
    "           medianprops=medianprops\n",
    "           )\n",
    "\n",
    "ax.set_xlim(-0.5, 12.5)\n",
    "# Hide the axis lines\n",
    "ax.spines['top'].set_visible(False)\n",
    "ax.spines['right'].set_visible(False)\n",
    "ax.spines['left'].set_visible(False)\n",
    "plt.xlabel(\"price\")\n",
    "plt.yticks([])\n",
    "\n",
    "plt.gca().set_facecolor('#EAEAF2')\n",
    "plt.gca().spines['bottom'].set_visible(False)\n",
    "plt.grid(visible=True, axis='x', color='white', linestyle='-', linewidth=0.7)\n",
    "plt.show()\n"
   ]
  },
  {
   "cell_type": "code",
   "execution_count": 40,
   "metadata": {},
   "outputs": [
    {
     "data": {
      "image/png": "[encoded data removed]",
      "text/plain": [
       "<Figure size 640x480 with 1 Axes>"
      ]
     },
     "metadata": {},
     "output_type": "display_data"
    }
   ],
   "source": [
    "cursor.execute(\n",
    "    \"\"\"\n",
    "    SELECT user_id, AVG(price) AS avg_cart_price\n",
    "    FROM customers\n",
    "    WHERE event_type = 'cart'\n",
    "    GROUP BY user_id\n",
    "    HAVING AVG(price) BETWEEN 26 AND 43;\n",
    "    \"\"\"\n",
    ")\n",
    "data = cursor.fetchall()\n",
    "average_basket_prices = [item[1] for item in data]\n",
    "plt.boxplot(average_basket_prices,\n",
    "                vert=False,\n",
    "                widths=0.75,\n",
    "                boxprops=dict(facecolor=\"lightblue\",\n",
    "                              edgecolor=\"black\"),\n",
    "                flierprops=dict(marker=\"D\",\n",
    "                                markerfacecolor=\"gray\",\n",
    "                                markersize=8,\n",
    "                                markeredgecolor=\"none\"),\n",
    "                medianprops=dict(color='black'),\n",
    "                patch_artist=True,\n",
    "                whis=0.2)\n",
    "plt.xticks(np.arange(int(min(average_basket_prices)),\n",
    "                         int(max(average_basket_prices)) + 1,\n",
    "                         step=2))\n",
    "plt.xlim(min(average_basket_prices) - 1,\n",
    "             max(average_basket_prices) + 1)\n",
    "plt.yticks([])\n",
    "plt.gca().set_facecolor('#EAEAF2')\n",
    "plt.grid(visible=True, axis='x', color='white', linestyle='-', linewidth=0.7)\n",
    "plt.show()"
   ]
  }
 ],
 "metadata": {
  "kernelspec": {
   "display_name": "Python 3",
   "language": "python",
   "name": "python3"
  },
  "language_info": {
   "codemirror_mode": {
    "name": "ipython",
    "version": 3
   },
   "file_extension": ".py",
   "mimetype": "text/x-python",
   "name": "python",
   "nbconvert_exporter": "python",
   "pygments_lexer": "ipython3",
   "version": "3.10.14"
  }
 },
 "nbformat": 4,
 "nbformat_minor": 2
}
