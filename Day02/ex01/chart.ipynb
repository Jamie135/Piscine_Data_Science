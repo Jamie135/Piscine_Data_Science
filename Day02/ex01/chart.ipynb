{
 "cells": [
  {
   "cell_type": "code",
   "execution_count": null,
   "metadata": {},
   "outputs": [],
   "source": [
    "import psycopg2\n",
    "import matplotlib.pyplot as plt\n",
    "\n",
    "\n",
    "connection = psycopg2.connect(\n",
    "    database=\"piscineds\",\n",
    "    user=\"pbureera\",\n",
    "    password=\"mysecretpassword\",\n",
    "    host=\"localhost\",\n",
    "    port=\"5432\",\n",
    ")\n",
    "connection.autocommit = True\n",
    "cursor = connection.cursor()"
   ]
  },
  {
   "cell_type": "code",
   "execution_count": null,
   "metadata": {},
   "outputs": [],
   "source": [
    "cursor.execute(\n",
    "    \"\"\"\n",
    "    SELECT DATE_TRUNC('day', event_time) as day, COUNT(DISTINCT user_id)\n",
    "    FROM customers\n",
    "    WHERE event_type = 'purchase'\n",
    "    GROUP BY day;\n",
    "    \"\"\"\n",
    ")\n",
    "data = cursor.fetchall()\n",
    "date, customer_nb = zip(*data)\n",
    "plt.plot(date, customer_nb)\n",
    "plt.xticks(date[::31], labels=[\"Oct\", \"Nov\", \"Dec\", \"Jan\", \"Feb\"])\n",
    "plt.ylabel(\"Number of customers\")\n",
    "\n",
    "# set background color and grid style\n",
    "plt.grid(visible=True, which='both', color='white', linestyle='-', linewidth=0.7)\n",
    "# set background color to light grey\n",
    "plt.gca().set_facecolor('#EAEAF2')\n",
    "# set grid lines\n",
    "plt.grid(True, color='w', linestyle='-', linewidth=0.5)\n",
    "plt.show()\n"
   ]
  },
  {
   "cell_type": "code",
   "execution_count": null,
   "metadata": {},
   "outputs": [],
   "source": [
    "cursor.execute(\n",
    "    \"\"\"\n",
    "    SELECT DATE_TRUNC('month', event_time) AS month, SUM(price)\n",
    "    FROM customers\n",
    "    WHERE event_type = 'purchase'\n",
    "    GROUP BY month;\n",
    "    \"\"\"\n",
    ")\n",
    "data = cursor.fetchall()\n",
    "month, sales = zip(*data)\n",
    "plt.bar([\"Oct\", \"Nov\", \"Dec\", \"Jan\", \"Feb\"], sales, color='lightblue', edgecolor='none')\n",
    "plt.xlabel(\"month\")\n",
    "plt.ylabel(\"total sales in million of ₳\")\n",
    "\n",
    "plt.gca().set_facecolor('#EAEAF2')\n",
    "plt.grid(visible=True, axis='y', color='white', linestyle='-', linewidth=0.7)\n",
    "plt.show()\n"
   ]
  },
  {
   "cell_type": "code",
   "execution_count": null,
   "metadata": {},
   "outputs": [],
   "source": [
    "cursor.execute(\n",
    "    \"\"\"\n",
    "    SELECT DATE_TRUNC('day', event_time) AS day, SUM(price)/COUNT(DISTINCT user_id) AS avg\n",
    "    FROM customers\n",
    "    WHERE event_type = 'purchase'\n",
    "    GROUP BY day;\n",
    "    \"\"\"\n",
    ")\n",
    "data = cursor.fetchall()\n",
    "date, avg = zip(*data)\n",
    "plt.fill_between(date, 0, avg, color='lightblue', alpha=0.7)\n",
    "plt.xticks(date[::31], labels=[\"Oct\", \"Nov\", \"Dec\", \"Jan\", \"Feb\"])\n",
    "plt.ylabel(\"average spend/customers in ₳\")\n",
    "\n",
    "plt.gca().set_facecolor('#EAEAF2')\n",
    "plt.grid(visible=True, which='both', color='white', linestyle='-', linewidth=0.7)\n",
    "plt.show()\n"
   ]
  }
 ],
 "metadata": {
  "language_info": {
   "name": "python"
  }
 },
 "nbformat": 4,
 "nbformat_minor": 2
}
