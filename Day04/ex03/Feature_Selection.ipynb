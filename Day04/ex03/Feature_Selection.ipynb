{
 "cells": [
  {
   "cell_type": "code",
   "execution_count": 27,
   "metadata": {},
   "outputs": [
    {
     "name": "stdout",
     "output_type": "stream",
     "text": [
      "                       VIF  Tolerance\n",
      "Sensitivity    4405.286344   0.000227\n",
      "Hability         11.315545   0.088374\n",
      "Strength       4504.504505   0.000222\n",
      "Power           415.282392   0.002408\n",
      "Agility           7.658258   0.130578\n",
      "Dexterity        54.743527   0.018267\n",
      "Awareness        70.185289   0.014248\n",
      "Prescience       54.806533   0.018246\n",
      "Reactivity        4.074266   0.245443\n",
      "Midi-chlorien    14.678468   0.068127\n",
      "Slash            81.360345   0.012291\n",
      "Push              4.076026   0.245337\n",
      "Pull             74.079561   0.013499\n",
      "Lightsaber       47.719030   0.020956\n",
      "Survival          3.663393   0.272971\n",
      "Repulse          15.265078   0.065509\n",
      "Friendship       19.172147   0.052159\n",
      "Blocking         14.670716   0.068163\n",
      "Deflection        4.550874   0.219738\n",
      "Mass             10.506630   0.095178\n",
      "Recovery        799.360512   0.001251\n",
      "Evade            17.664412   0.056611\n",
      "Stims           346.140533   0.002889\n",
      "Sprint          368.731563   0.002712\n",
      "Combo             9.924869   0.100757\n",
      "Delay            35.991938   0.027784\n",
      "Attunement       33.907500   0.029492\n",
      "Empowered        36.226634   0.027604\n",
      "Burst             8.719840   0.114681\n",
      "Grasping         20.086775   0.049784\n",
      "knight            4.638068   0.215607\n"
     ]
    }
   ],
   "source": [
    "import pandas as pd\n",
    "from sklearn.linear_model import LinearRegression\n",
    "\n",
    "\n",
    "df = pd.read_csv('../resources/Train_knight.csv')\n",
    "df['knight'] = df['knight'].map({'Jedi': 0, 'Sith': 1})\n",
    "\n",
    "\n",
    "def vif(df):\n",
    "    features = df.columns\n",
    "    vif_dict: dict = {}\n",
    "    for feature in features:\n",
    "        y = df[feature]\n",
    "        x = df.drop(columns=feature)\n",
    "        model = LinearRegression().fit(x, y)\n",
    "        r_squared = model.score(x, y)\n",
    "        tolerance = round((1 - r_squared), 6)\n",
    "        vif = round((1 / tolerance), 6)\n",
    "        vif_dict[feature] = (vif, tolerance)\n",
    "\n",
    "    df_vif = pd.DataFrame.from_dict(vif_dict, orient=\"index\")\n",
    "    df_vif.columns = [\"VIF\", \"Tolerance\"]\n",
    "\n",
    "    return df_vif\n",
    "\n",
    "\n",
    "vif_features = vif(df)\n",
    "print(vif_features)\n"
   ]
  },
  {
   "cell_type": "code",
   "execution_count": 28,
   "metadata": {},
   "outputs": [
    {
     "name": "stdout",
     "output_type": "stream",
     "text": [
      "                 VIF  Tolerance\n",
      "Reactivity  4.074266   0.245443\n",
      "Push        4.076026   0.245337\n",
      "Survival    3.663393   0.272971\n",
      "Deflection  4.550874   0.219738\n",
      "knight      4.638068   0.215607\n"
     ]
    }
   ],
   "source": [
    "# filter = df.drop(\n",
    "#     columns=[\n",
    "#         \"Prescience\",\n",
    "#         \"Push\",\n",
    "#         \"Deflection\",\n",
    "#         \"Survival\",\n",
    "#         \"Midi-chlorien\",\n",
    "#         \"Grasping\",\n",
    "#         \"Pull\",\n",
    "#         \"Awareness\",\n",
    "#         \"Repulse\",\n",
    "#         \"Attunement\",\n",
    "#         \"Empowered\",\n",
    "#         \"Dexterity\",\n",
    "#         \"Delay\",\n",
    "#         \"Slash\",\n",
    "#         \"Sprint\",\n",
    "#         \"Sensitivity\",\n",
    "#         \"Stims\",\n",
    "#         \"Strength\",\n",
    "#         \"Recovery\",\n",
    "#         \"Hability\",\n",
    "#         \"Agility\",\n",
    "#     ]\n",
    "# )\n",
    "# vif_filtered = vif(filter)\n",
    "# print(vif_filtered)\n",
    "\n",
    "filtered = vif(df)\n",
    "vif_filtered = filtered[filtered['VIF'] < 5]\n",
    "print(vif_filtered)\n"
   ]
  }
 ],
 "metadata": {
  "kernelspec": {
   "display_name": "Python 3",
   "language": "python",
   "name": "python3"
  },
  "language_info": {
   "codemirror_mode": {
    "name": "ipython",
    "version": 3
   },
   "file_extension": ".py",
   "mimetype": "text/x-python",
   "name": "python",
   "nbconvert_exporter": "python",
   "pygments_lexer": "ipython3",
   "version": "3.10.12"
  }
 },
 "nbformat": 4,
 "nbformat_minor": 2
}
