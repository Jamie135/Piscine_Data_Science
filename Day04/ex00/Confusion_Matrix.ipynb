{
 "cells": [
  {
   "cell_type": "code",
   "execution_count": 18,
   "metadata": {},
   "outputs": [
    {
     "name": "stdout",
     "output_type": "stream",
     "text": [
      "Jedi\n",
      "precision: 0.45454545454545453\n",
      "recall: 0.5102040816326531\n",
      "f1-score: 0.4807692307692308\n",
      "total: 49\n",
      "\n",
      "Sith\n",
      "precision: 0.4666666666666667\n",
      "recall: 0.4117647058823529\n",
      "f1-score: 0.43749999999999994\n",
      "total: 51\n",
      "\n",
      "Accuracy: 0.46\n",
      "\n",
      "Total Predictions: 100\n",
      "\n",
      "[[25, 24], [30, 21]]\n"
     ]
    },
    {
     "data": {
      "image/png": "[encoded data removed]",
      "text/plain": [
       "<Figure size 800x600 with 2 Axes>"
      ]
     },
     "metadata": {},
     "output_type": "display_data"
    }
   ],
   "source": [
    "import matplotlib.pyplot as plt\n",
    "import seaborn as sns\n",
    "\n",
    "\n",
    "def confusion_matrix():\n",
    "    with open('../resources/truth.txt', 'r') as file:\n",
    "        truth = file.read().splitlines()\n",
    "    with open('../resources/predictions.txt', 'r') as file:\n",
    "        predictions = file.read().splitlines()\n",
    "\n",
    "    matrix = [[0, 0], [0, 0]]\n",
    "    labels = ['Jedi', 'Sith']\n",
    "    for t, p in zip(truth, predictions):\n",
    "        i = labels.index(t)\n",
    "        j = labels.index(p)\n",
    "        matrix[i][j] += 1\n",
    "    return matrix\n",
    "\n",
    "\n",
    "def calculate_metrics(matrix):\n",
    "    tp_jedi = matrix[0][0]\n",
    "    fp_jedi = matrix[1][0]\n",
    "    fn_jedi = matrix[0][1]\n",
    "    tn_jedi = matrix[1][1]\n",
    "    \n",
    "    tp_sith = matrix[1][1]\n",
    "    fp_sith = matrix[0][1]\n",
    "    fn_sith = matrix[1][0]\n",
    "    \n",
    "    precision_jedi = tp_jedi / (tp_jedi + fp_jedi) if (tp_jedi + fp_jedi) != 0 else 0\n",
    "    recall_jedi = tp_jedi / (tp_jedi + fn_jedi) if (tp_jedi + fn_jedi) != 0 else 0\n",
    "    f1_jedi = 2 * (precision_jedi * recall_jedi) / (precision_jedi + recall_jedi) if (precision_jedi + recall_jedi) != 0 else 0\n",
    "    total_jedi = tp_jedi + fn_jedi\n",
    "    \n",
    "    precision_sith = tp_sith / (tp_sith + fp_sith) if (tp_sith + fp_sith) != 0 else 0\n",
    "    recall_sith = tp_sith / (tp_sith + fn_sith) if (tp_sith + fn_sith) != 0 else 0\n",
    "    f1_sith = 2 * (precision_sith * recall_sith) / (precision_sith + recall_sith) if (precision_sith + recall_sith) != 0 else 0\n",
    "    total_sith = tp_sith + fn_sith\n",
    "    \n",
    "    accuracy = (tp_jedi + tn_jedi) / (tp_jedi + tn_jedi + fp_jedi + fn_jedi)\n",
    "    total_predictions = sum(sum(row) for row in matrix)\n",
    "    \n",
    "    return {\n",
    "        \"Jedi\": {\n",
    "            'precision': precision_jedi,\n",
    "            'recall': recall_jedi,\n",
    "            'f1-score': f1_jedi,\n",
    "            'total': total_jedi\n",
    "        },\n",
    "        \"Sith\":\n",
    "        {\n",
    "            'precision': precision_sith,\n",
    "            'recall': recall_sith,\n",
    "            'f1-score': f1_sith,\n",
    "            'total': total_sith\n",
    "        },\n",
    "        \"Accuracy\": accuracy,\n",
    "        \"Total Predictions\": total_predictions\n",
    "    }\n",
    "\n",
    "\n",
    "matrix = confusion_matrix()\n",
    "metrics = calculate_metrics(matrix)\n",
    "\n",
    "for key, value in metrics.items():\n",
    "    if isinstance(value, dict):\n",
    "        print(f\"{key}\")\n",
    "        for k, val in value.items():\n",
    "            print(f\"{k}: {val}\")\n",
    "    else:\n",
    "        print(f\"{key}: {value}\")\n",
    "    print()\n",
    "\n",
    "print(matrix)\n",
    "plt.figure(figsize=(8, 6))\n",
    "sns.heatmap(confusion_matrix(), annot=True, fmt=\"d\", cmap=plt.get_cmap(\"viridis\"), xticklabels=[\"0\", \"1\"], yticklabels=[\"0\", \"1\"])\n",
    "plt.ylabel('Actual')\n",
    "plt.xlabel('Predicted')\n",
    "plt.title('Confusion Matrix')\n",
    "plt.show()"
   ]
  }
 ],
 "metadata": {
  "kernelspec": {
   "display_name": "Python 3",
   "language": "python",
   "name": "python3"
  },
  "language_info": {
   "codemirror_mode": {
    "name": "ipython",
    "version": 3
   },
   "file_extension": ".py",
   "mimetype": "text/x-python",
   "name": "python",
   "nbconvert_exporter": "python",
   "pygments_lexer": "ipython3",
   "version": "3.10.12"
  }
 },
 "nbformat": 4,
 "nbformat_minor": 2
}
